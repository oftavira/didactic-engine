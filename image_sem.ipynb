{
 "cells": [
  {
   "cell_type": "code",
   "execution_count": 6,
   "metadata": {},
   "outputs": [],
   "source": [
    "# Try -!pip install opencv-python-headless- if you get an error with opencv\n",
    "\n",
    "# The current notebook presents a way of processing the images\n",
    "# taken by scanning electron microscopy, we will use OpenCV\n",
    "# to process the images and extract the particle size with a treshold\n",
    "# and a mask.\n",
    "\n",
    "# Importing the libraries\n",
    "\n",
    "import cv2\n",
    "import numpy as np\n",
    "import matplotlib.pyplot as plt\n",
    "import os\n",
    "\n",
    "# Path to the images\n",
    "\n",
    "path = 'sem/'\n",
    "\n",
    "# Printing an image\n",
    "\n",
    "img = cv2.imread(path + ' (1).jpg')\n",
    "\n",
    "# Plotting the image with opencv\n",
    "# Converting the image to RGB\n",
    "\n",
    "img = cv2.cvtColor(img, cv2.COLOR_BGR2RGB)\n",
    "\n",
    "# Plotting the image\n",
    "\n",
    "plt.imshow(img)\n",
    "plt.show()\n"
   ]
  }
 ],
 "metadata": {
  "kernelspec": {
   "display_name": "Python 3.10.4 64-bit",
   "language": "python",
   "name": "python3"
  },
  "language_info": {
   "codemirror_mode": {
    "name": "ipython",
    "version": 3
   },
   "file_extension": ".py",
   "mimetype": "text/x-python",
   "name": "python",
   "nbconvert_exporter": "python",
   "pygments_lexer": "ipython3",
   "version": "3.10.4"
  },
  "orig_nbformat": 4,
  "vscode": {
   "interpreter": {
    "hash": "3ad933181bd8a04b432d3370b9dc3b0662ad032c4dfaa4e4f1596c548f763858"
   }
  }
 },
 "nbformat": 4,
 "nbformat_minor": 2
}
